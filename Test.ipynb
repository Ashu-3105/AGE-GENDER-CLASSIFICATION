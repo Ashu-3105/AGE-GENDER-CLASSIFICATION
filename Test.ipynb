{
 "cells": [
  {
   "cell_type": "code",
   "execution_count": 1,
   "id": "0b8679d4",
   "metadata": {},
   "outputs": [
    {
     "name": "stderr",
     "output_type": "stream",
     "text": [
      "C:\\Users\\ashut\\anaconda3\\lib\\site-packages\\scipy\\__init__.py:146: UserWarning: A NumPy version >=1.16.5 and <1.23.0 is required for this version of SciPy (detected version 1.26.4\n",
      "  warnings.warn(f\"A NumPy version >={np_minversion} and <{np_maxversion}\"\n"
     ]
    },
    {
     "name": "stdout",
     "output_type": "stream",
     "text": [
      "WARNING:tensorflow:From C:\\Users\\ashut\\anaconda3\\lib\\site-packages\\keras\\src\\losses.py:2976: The name tf.losses.sparse_softmax_cross_entropy is deprecated. Please use tf.compat.v1.losses.sparse_softmax_cross_entropy instead.\n",
      "\n"
     ]
    }
   ],
   "source": [
    "import tensorflow as tf\n",
    "import cv2\n",
    "import numpy as np\n",
    "from cv2 import *"
   ]
  },
  {
   "cell_type": "code",
   "execution_count": 2,
   "id": "2e5ada19",
   "metadata": {},
   "outputs": [
    {
     "name": "stdout",
     "output_type": "stream",
     "text": [
      "WARNING:tensorflow:From C:\\Users\\ashut\\anaconda3\\lib\\site-packages\\keras\\src\\backend.py:1398: The name tf.executing_eagerly_outside_functions is deprecated. Please use tf.compat.v1.executing_eagerly_outside_functions instead.\n",
      "\n",
      "WARNING:tensorflow:From C:\\Users\\ashut\\anaconda3\\lib\\site-packages\\keras\\src\\layers\\pooling\\max_pooling2d.py:161: The name tf.nn.max_pool is deprecated. Please use tf.nn.max_pool2d instead.\n",
      "\n"
     ]
    }
   ],
   "source": [
    "model = tf.keras.models.load_model('age_gender_classification_model.h5')"
   ]
  },
  {
   "cell_type": "code",
   "execution_count": 3,
   "id": "d6832029",
   "metadata": {},
   "outputs": [],
   "source": [
    "# IMG_WIDTH, IMG_HEIGHT = 128, 128\n",
    "# def preprocess_image(image):\n",
    "#     gray_image = cv2.cvtColor(image, cv2.COLOR_RGB2GRAY)\n",
    "#     image = cv2.resize(gray_image, (IMG_WIDTH, IMG_HEIGHT))\n",
    "#     reshaped_image = image.reshape(1, 128, 128, 1)\n",
    "#     image = reshaped_image.astype('float32') / 255.0\n",
    "#     return image"
   ]
  },
  {
   "cell_type": "code",
   "execution_count": 4,
   "id": "d95de4cf",
   "metadata": {},
   "outputs": [],
   "source": [
    "# def predict_age_gender(image):\n",
    "#     # Preprocess the image\n",
    "#     image = preprocess_image(image)\n",
    "#     # Predict the gender (0 = male, 1 = female)\n",
    "#     gender_pred = 'Female' if model.predict(image)[0][0] == 0 else 'Male'\n",
    "#     # Predict the age\n",
    "#     age_pred = int(model.predict(image)[1][0])\n",
    "#     return gender_pred, age_pred"
   ]
  },
  {
   "cell_type": "code",
   "execution_count": 5,
   "id": "bb3b74ef",
   "metadata": {},
   "outputs": [],
   "source": [
    "# IMG_WIDTH, IMG_HEIGHT = 128, 128\n",
    "# def preprocess_image(image_data):\n",
    "#     # Convert image data to NumPy array\n",
    "#     img_array = np.array(image_data)\n",
    "#     # Convert image to grayscale\n",
    "#     gray_image = cv2.cvtColor(img_array, cv2.COLOR_BGR2GRAY)\n",
    "#     # Resize the image\n",
    "#     resized_image = cv2.resize(gray_image, (IMG_WIDTH, IMG_HEIGHT))\n",
    "#     # Reshape the image for model input\n",
    "#     reshaped_image = resized_image.reshape(1, IMG_WIDTH, IMG_HEIGHT, 1)\n",
    "#     # Normalize the image\n",
    "#     normalized_image = reshaped_image.astype('float32') / 255.0\n",
    "# #     return normalized_image\n",
    "# def preprocess_image(image_data):\n",
    "#     # Convert image data to NumPy array\n",
    "#     img_array = np.array(image_data)\n",
    "\n",
    "#     # Convert image to grayscale\n",
    "#     gray_image = cv2.cvtColor(img_array, cv2.COLOR_BGR2GRAY)\n",
    "\n",
    "#     # Resize the image\n",
    "#     resized_image = cv2.resize(gray_image, (IMG_WIDTH, IMG_HEIGHT))\n",
    "\n",
    "#     # Reshape the image for model input\n",
    "#     reshaped_image = resized_image.reshape(1, IMG_WIDTH, IMG_HEIGHT, 1)\n",
    "\n",
    "#     # Normalize the image\n",
    "#     normalized_image = reshaped_image.astype('float32') / 255.0\n",
    "\n",
    "#     return normalized_image\n",
    "\n",
    "\n",
    "\n",
    "\n",
    "\n",
    "# def preprocess_image(image_data):\n",
    "#     # Convert image data to NumPy array\n",
    "#     img_array = np.array(image_data)\n",
    "#     # Convert BGR to RGB\n",
    "#     img_array_rgb = cv2.cvtColor(img_array, cv2.COLOR_BGR2RGB)\n",
    "#     # Convert RGB to grayscale\n",
    "#     gray_image = cv2.cvtColor(img_array_rgb, cv2.COLOR_RGB2GRAY)\n",
    "#     # Resize the image\n",
    "#     resized_image = cv2.resize(gray_image, (IMG_WIDTH, IMG_HEIGHT))\n",
    "#     # Reshape the image for model input\n",
    "#     reshaped_image = resized_image.reshape(1, IMG_WIDTH, IMG_HEIGHT, 1)\n",
    "#     # Normalize the image\n",
    "#     normalized_image = reshaped_image.astype('float32') / 255.0\n",
    "#     return normalized_image\n"
   ]
  },
  {
   "cell_type": "code",
   "execution_count": 6,
   "id": "327ddb55",
   "metadata": {},
   "outputs": [],
   "source": [
    "# def predict_age_gender(image):\n",
    "#     # Preprocess the image\n",
    "#     image = preprocess_image(image)\n",
    "#     # Predict the gender (0 = male, 1 = female)\n",
    "#     gender_pred = 'Female' if model.predict(image)[0][0] == 0 else 'Male'\n",
    "#     # Predict the age\n",
    "#     age_pred = int(model.predict(image)[1][0])\n",
    "#     return gender_pred, age_pred"
   ]
  },
  {
   "cell_type": "code",
   "execution_count": 3,
   "id": "2ae94fe8",
   "metadata": {},
   "outputs": [],
   "source": [
    "IMG_WIDTH, IMG_HEIGHT = 128, 128\n",
    "def preprocess_image(image_data):\n",
    "    # Convert image data to numpy array\n",
    "    img_array = np.array(image_data)\n",
    "\n",
    "    # Ensure the image is in RGB format\n",
    "    img_array_rgb = cv2.cvtColor(img_array, cv2.COLOR_BGR2RGB)\n",
    "\n",
    "    # Convert RGB to grayscale\n",
    "    gray_image = cv2.cvtColor(img_array_rgb, cv2.COLOR_RGB2GRAY)\n",
    "\n",
    "    # Resize the image\n",
    "    resized_image = cv2.resize(gray_image, (IMG_WIDTH, IMG_HEIGHT))\n",
    "\n",
    "    # Reshape the image for model input\n",
    "    reshaped_image = resized_image.reshape(1, IMG_WIDTH, IMG_HEIGHT, 1)\n",
    "\n",
    "    # Normalize the image\n",
    "    normalized_image = reshaped_image.astype('float32') / 255.0\n",
    "\n",
    "    return normalized_image\n",
    "def predict_age_gender(image):\n",
    "    # Preprocess the image\n",
    "    image = preprocess_image(image)\n",
    "    # Predict the gender (0 = male, 1 = female)\n",
    "    gender_pred = 'Female' if model.predict(image)[0][0] == 0 else 'Male'\n",
    "    # Predict the age\n",
    "    age_pred = int(model.predict(image)[1][0])\n",
    "    return gender_pred, age_pred"
   ]
  },
  {
   "cell_type": "code",
   "execution_count": 4,
   "id": "85bf6f72",
   "metadata": {},
   "outputs": [],
   "source": [
    "cam = cv2.VideoCapture(0)\n",
    "result, image = cam.read()\n",
    "if result:\n",
    "    cv2.imshow(\"Ashu\", image)\n",
    "    cv2.waitKey(0)\n",
    "    x=cv2.imwrite(\"Ashu.png\", image)\n",
    "    cam.release()\n",
    "else:\n",
    "    print(\"Error\")\n",
    "cam.release()"
   ]
  },
  {
   "cell_type": "code",
   "execution_count": 5,
   "id": "18b24b56",
   "metadata": {},
   "outputs": [
    {
     "name": "stdout",
     "output_type": "stream",
     "text": [
      "1/1 [==============================] - 1s 593ms/step\n",
      "1/1 [==============================] - 0s 39ms/step\n"
     ]
    },
    {
     "name": "stderr",
     "output_type": "stream",
     "text": [
      "C:\\Users\\ashut\\AppData\\Local\\Temp\\ipykernel_11368\\3063209411.py:28: DeprecationWarning: Conversion of an array with ndim > 0 to a scalar is deprecated, and will error in future. Ensure you extract a single element from your array before performing this operation. (Deprecated NumPy 1.25.)\n",
      "  age_pred = int(model.predict(image)[1][0])\n"
     ]
    }
   ],
   "source": [
    "images=r\"C:\\Users\\ashut\\Downloads\\tes.png\"\n",
    "gender_pred, age_pred = predict_age_gender(image)"
   ]
  },
  {
   "cell_type": "code",
   "execution_count": 6,
   "id": "3be8d40a",
   "metadata": {},
   "outputs": [
    {
     "name": "stdout",
     "output_type": "stream",
     "text": [
      "Male\n",
      "40\n"
     ]
    }
   ],
   "source": [
    "print(gender_pred)\n",
    "print(age_pred)\n"
   ]
  },
  {
   "cell_type": "code",
   "execution_count": null,
   "id": "531b2bbb",
   "metadata": {},
   "outputs": [],
   "source": []
  }
 ],
 "metadata": {
  "kernelspec": {
   "display_name": "Python 3 (ipykernel)",
   "language": "python",
   "name": "python3"
  },
  "language_info": {
   "codemirror_mode": {
    "name": "ipython",
    "version": 3
   },
   "file_extension": ".py",
   "mimetype": "text/x-python",
   "name": "python",
   "nbconvert_exporter": "python",
   "pygments_lexer": "ipython3",
   "version": "3.9.12"
  }
 },
 "nbformat": 4,
 "nbformat_minor": 5
}
